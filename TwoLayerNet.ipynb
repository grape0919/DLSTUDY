{
 "nbformat": 4,
 "nbformat_minor": 2,
 "metadata": {
  "language_info": {
   "name": "python",
   "codemirror_mode": {
    "name": "ipython",
    "version": 3
   },
   "version": "3.7.4-final"
  },
  "orig_nbformat": 2,
  "file_extension": ".py",
  "mimetype": "text/x-python",
  "name": "python",
  "npconvert_exporter": "python",
  "pygments_lexer": "ipython3",
  "version": 3,
  "kernelspec": {
   "name": "python3",
   "display_name": "Python 3"
  }
 },
 "cells": [
  {
   "cell_type": "code",
   "execution_count": 4,
   "metadata": {},
   "outputs": [
    {
     "name": "stdout",
     "output_type": "stream",
     "text": "Completed importing libs\n"
    }
   ],
   "source": [
    "# 학습 알고리즘 구현\n",
    "'''\n",
    " 1단계 - 미니 배치\n",
    "        데이터에서 무작위로 정해진 수 만큼 뽑는것이 미니배치.\n",
    "        미니배치의 손실함 수 값을 줄이는 것이 목표\n",
    " 2단계 - 기울기 \n",
    "        미니배치의 손실함수 값을 줄이기위해 각 가중치 매개변수의\n",
    "        기울기를 구해 기울기방향으로 값을 줄여나감.\n",
    " 3단계 - 매개변수 값 갱신\n",
    " 4단계 - 반복\n",
    "'''\n",
    "\n",
    "from gradient import numerical_gradient\n",
    "from sigmoid import sigmoid\n",
    "from softmax import softmax\n",
    "from cee import cross_entropy_error\n",
    "from gradient import numerical_gradient\n",
    "\n",
    "print(\"Completed importing libs\")"
   ]
  },
  {
   "cell_type": "code",
   "execution_count": 8,
   "metadata": {},
   "outputs": [
    {
     "name": "stdout",
     "output_type": "stream",
     "text": "TwoLayerNet\n"
    }
   ],
   "source": [
    "class TwoLayerNet:\n",
    "    def __init__(self, input_size, hidden_size, ouput_size, weight_init_std=0.01):\n",
    "        #가중치 초기화\n",
    "        self.params = {}\n",
    "        self.params['W1'] = weight_init_std * np.random.randn(input_size, hidden_size)\n",
    "        self.params['b1'] = np.zeros(hidden_size)\n",
    "        self.params['W2'] = weight_init_std * np.random.randn(hidden_size, output_size)\n",
    "        self.params['b2'] = np.zeros(output_size)\n",
    "        #W 는 가중치\n",
    "        #b 는 편향\n",
    "\n",
    "    def predict(self, x):       #설정된 가중치와 편향으로 예측(계산)\n",
    "        W1, W2 = self.params['W1'], self.params['W2']\n",
    "        b1, b2 = self.params['b1'], self.params['b2']\n",
    "\n",
    "        a1 = np.dot(x, W1) + b1\n",
    "        z1 = sigmoid(a1)        #활성함수는 sigmoid 함수 사용\n",
    "        a2 = np.dot(z1, W2) + b2\n",
    "        y = softmax(a2)         #출력층 활성함수는 softmac 함수 사용\n",
    "\n",
    "        return y                #결과 출력\n",
    "\n",
    "    def loss(self, x, t):\n",
    "        y = self.predict(x)     #계산\n",
    "\n",
    "        return cross_entropy_error(y, t) #손실함수는 cee 사용\n",
    "\n",
    "\n",
    "    def accuracy(self, x, t):    #정확도 측정 \n",
    "        y = self.predict(x)     #예측(계산)\n",
    "        y = np.argmax(y, axis=1)#최대값 인덱스 2차원 배열 내에서 찾음\n",
    "        t = np.argmax(t, axis=1)#최대값 인덱스 2차원 배열 내에서 찾음\n",
    "\n",
    "        accuracy = np.sum(y == t) / float(x.shape[0]) #최대 값이 같은(확률이 제일 높은 인덱스가 같을 경우) 1을 더해줌\n",
    "        #   정답과 일치하는 y 의 개수 / 입력 개수\n",
    "        return accuracy\n",
    "\n",
    "    def numerical_gradient(self, x, t):\n",
    "        loss_W = lambda W: self.loss(x, t)\n",
    "        '''\n",
    "        def loss_W(W)\n",
    "            return self.loss(x, t)\n",
    "        '''\n",
    "\n",
    "        grads = {}\n",
    "        grads['W1'] = numerical_gradient(loss_W, self.params['W1'])\n",
    "        grads['b1'] = numerical_gradient(loss_W, self.params['b1'])\n",
    "        grads['W2'] = numerical_gradient(loss_W, self.params['W2'])\n",
    "        grads['b2'] = numerical_gradient(loss_W, self.params['b2'])\n",
    "\n",
    "        return grads\n",
    "\n",
    "print(\"TwoLayerNet\")"
   ]
  },
  {
   "cell_type": "code",
   "execution_count": null,
   "metadata": {},
   "outputs": [],
   "source": []
  }
 ]
}